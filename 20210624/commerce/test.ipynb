{
 "metadata": {
  "language_info": {
   "codemirror_mode": {
    "name": "ipython",
    "version": 3
   },
   "file_extension": ".py",
   "mimetype": "text/x-python",
   "name": "python",
   "nbconvert_exporter": "python",
   "pygments_lexer": "ipython3",
   "version": "3.8.8"
  },
  "orig_nbformat": 4,
  "kernelspec": {
   "name": "python3",
   "display_name": "Python 3.8.8 64-bit ('base': conda)"
  },
  "interpreter": {
   "hash": "473a733fa75d3caf7e6d3c6c4b30480b56102ef8a0ba4c2db92fdbb905170b2b"
  }
 },
 "nbformat": 4,
 "nbformat_minor": 2,
 "cells": [
  {
   "cell_type": "code",
   "execution_count": 24,
   "metadata": {},
   "outputs": [
    {
     "output_type": "execute_result",
     "data": {
      "text/plain": [
       "'login_complete'"
      ]
     },
     "metadata": {},
     "execution_count": 24
    }
   ],
   "source": [
    "from myModule.member import Commerce6_login\n",
    "test = Commerce6_login('qwe', 'qwe')\n",
    "test.login_doit()\n"
   ]
  },
  {
   "cell_type": "code",
   "execution_count": 9,
   "metadata": {},
   "outputs": [
    {
     "output_type": "stream",
     "name": "stdout",
     "text": [
      "잇다\n"
     ]
    }
   ],
   "source": [
    "import pandas as pd\n",
    "login_df = pd.read_csv(\"C:/Users/mingzzang/Desktop/idPw.csv\")\n",
    "login_df['id'].values\n",
    "if 'qwe' in login_df['id'].values:\n",
    "    print('잇다')\n",
    "else:\n",
    "    print('없다')"
   ]
  },
  {
   "cell_type": "code",
   "execution_count": 27,
   "metadata": {},
   "outputs": [
    {
     "output_type": "error",
     "ename": "TypeError",
     "evalue": "__init__() missing 2 required positional arguments: 'id' and 'pw'",
     "traceback": [
      "\u001b[1;31m---------------------------------------------------------------------------\u001b[0m",
      "\u001b[1;31mTypeError\u001b[0m                                 Traceback (most recent call last)",
      "\u001b[1;32m<ipython-input-27-14dc4ff0515c>\u001b[0m in \u001b[0;36m<module>\u001b[1;34m\u001b[0m\n\u001b[0;32m      1\u001b[0m \u001b[1;32mfrom\u001b[0m \u001b[0mmyModule\u001b[0m\u001b[1;33m.\u001b[0m\u001b[0mmember\u001b[0m \u001b[1;32mimport\u001b[0m \u001b[0mCommerce6_login\u001b[0m\u001b[1;33m\u001b[0m\u001b[1;33m\u001b[0m\u001b[0m\n\u001b[1;32m----> 2\u001b[1;33m \u001b[0mtest\u001b[0m \u001b[1;33m=\u001b[0m \u001b[0mCommerce6_login\u001b[0m\u001b[1;33m(\u001b[0m\u001b[1;33m)\u001b[0m\u001b[1;33m\u001b[0m\u001b[1;33m\u001b[0m\u001b[0m\n\u001b[0m\u001b[0;32m      3\u001b[0m \u001b[0mtest\u001b[0m\u001b[1;33m.\u001b[0m\u001b[0mlogin_guest\u001b[0m\u001b[1;33m(\u001b[0m\u001b[1;33m)\u001b[0m\u001b[1;33m\u001b[0m\u001b[1;33m\u001b[0m\u001b[0m\n",
      "\u001b[1;31mTypeError\u001b[0m: __init__() missing 2 required positional arguments: 'id' and 'pw'"
     ]
    }
   ],
   "source": [
    "from myModule.member import Commerce6_login\n",
    "test = Commerce6_login()\n",
    "test.login_guest()"
   ]
  },
  {
   "cell_type": "code",
   "execution_count": 15,
   "metadata": {},
   "outputs": [
    {
     "output_type": "execute_result",
     "data": {
      "text/plain": [
       "  id2 pw2 nickname2 location2\n",
       "0  id  pw  nickname  location"
      ],
      "text/html": "<div>\n<style scoped>\n    .dataframe tbody tr th:only-of-type {\n        vertical-align: middle;\n    }\n\n    .dataframe tbody tr th {\n        vertical-align: top;\n    }\n\n    .dataframe thead th {\n        text-align: right;\n    }\n</style>\n<table border=\"1\" class=\"dataframe\">\n  <thead>\n    <tr style=\"text-align: right;\">\n      <th></th>\n      <th>id2</th>\n      <th>pw2</th>\n      <th>nickname2</th>\n      <th>location2</th>\n    </tr>\n  </thead>\n  <tbody>\n    <tr>\n      <th>0</th>\n      <td>id</td>\n      <td>pw</td>\n      <td>nickname</td>\n      <td>location</td>\n    </tr>\n  </tbody>\n</table>\n</div>"
     },
     "metadata": {},
     "execution_count": 15
    }
   ],
   "source": [
    "import pandas as pd\n",
    "import numpy as np\n",
    "info_table = ['id',\t'pw',\t'nickname',\t'location']\n",
    "info_table2 = ['id2',\t'pw2',\t'nickname2',\t'location2']\n",
    "\n",
    "return_table_df = pd.DataFrame( np.array(info_table).reshape(1, -1), columns=info_table2 )\n",
    "return_table_df"
   ]
  },
  {
   "cell_type": "code",
   "execution_count": 58,
   "metadata": {},
   "outputs": [
    {
     "output_type": "execute_result",
     "data": {
      "text/plain": [
       "'1'"
      ]
     },
     "metadata": {},
     "execution_count": 58
    }
   ],
   "source": [
    "import pandas as pd\n",
    "\n",
    "login_df = pd.read_csv(\"C:/Users/mingzzang/Desktop/idPw.csv\")\n",
    "login_df\n",
    "# login_df.set_index('id').loc[['qwe'], ['nickname']]['nickname'].tolist()\n",
    "login_df.set_index('id').loc[['qwe'], ['nickname']]['nickname']\n",
    "login_df.loc[(login_df['id'] == 'qwe') & (login_df['pw'] == 'qwe')]['nickname'].values[0]"
   ]
  },
  {
   "cell_type": "code",
   "execution_count": 54,
   "metadata": {},
   "outputs": [
    {
     "output_type": "execute_result",
     "data": {
      "text/plain": [
       "0      True\n",
       "1     False\n",
       "2     False\n",
       "3     False\n",
       "4     False\n",
       "5     False\n",
       "6     False\n",
       "7     False\n",
       "8     False\n",
       "9     False\n",
       "10    False\n",
       "11    False\n",
       "12    False\n",
       "Name: pw, dtype: bool"
      ]
     },
     "metadata": {},
     "execution_count": 54
    }
   ],
   "source": [
    "import pandas as pd\n",
    "\n",
    "login_df = pd.read_csv(\"C:/Users/mingzzang/Desktop/idPw.csv\")\n",
    "login_df['pw'] == 'qwe'"
   ]
  },
  {
   "cell_type": "code",
   "execution_count": 59,
   "metadata": {},
   "outputs": [
    {
     "output_type": "stream",
     "name": "stdout",
     "text": [
      "asd\n"
     ]
    }
   ],
   "source": [
    "customer_email = 'sang@gmim'\n",
    "if '@' not in customer_email:\n",
    "    print(f\"{nickname}님의 이메일 형식이 잘못되었습니다.\")\n",
    "else:\n",
    "    print('asd')"
   ]
  },
  {
   "cell_type": "code",
   "execution_count": null,
   "metadata": {},
   "outputs": [],
   "source": [
    "while True:\n",
    "    print('asd')\n",
    "    while True:\n",
    "        dstr= 'asd'\n",
    "        if dstr == 'asd':\n",
    "            break\n",
    "    "
   ]
  },
  {
   "cell_type": "code",
   "execution_count": 8,
   "metadata": {},
   "outputs": [
    {
     "output_type": "execute_result",
     "data": {
      "text/plain": [
       "Empty DataFrame\n",
       "Columns: [Name, Author, User Rating, Reviews]\n",
       "Index: []"
      ],
      "text/html": "<div>\n<style scoped>\n    .dataframe tbody tr th:only-of-type {\n        vertical-align: middle;\n    }\n\n    .dataframe tbody tr th {\n        vertical-align: top;\n    }\n\n    .dataframe thead th {\n        text-align: right;\n    }\n</style>\n<table border=\"1\" class=\"dataframe\">\n  <thead>\n    <tr style=\"text-align: right;\">\n      <th></th>\n      <th>Name</th>\n      <th>Author</th>\n      <th>User Rating</th>\n      <th>Reviews</th>\n    </tr>\n  </thead>\n  <tbody>\n  </tbody>\n</table>\n</div>"
     },
     "metadata": {},
     "execution_count": 8
    }
   ],
   "source": [
    "import pandas as pd\n",
    "\n",
    "bag_df = pd.read_csv(\"C:/Users/mingzzang/Desktop/bag.csv\")\n",
    "bag_df"
   ]
  },
  {
   "cell_type": "code",
   "execution_count": 89,
   "metadata": {
    "tags": []
   },
   "outputs": [
    {
     "output_type": "stream",
     "name": "stdout",
     "text": [
      "[['10-Day Green Smoothie Cleanse', 'JJ Smith', 4.7, 17350, 8, 2016, 'Non Fiction']] <class 'list'>\n['10-Day Green Smoothie Cleanse', 'JJ Smith', 4.7, 17350, 8, 2016, 'Non Fiction']\n"
     ]
    }
   ],
   "source": [
    "import pandas as pd\n",
    "\n",
    "product_df = pd.read_csv(\"C:/Users/mingzzang/Desktop/bestsellers with categories.csv\")\n",
    "product_df\n",
    "# book_choice_df = product_df.loc[3-1]\n",
    "# book_choice_df_list = book_choice_df.tolist()\n",
    "# print(type(book_choice_df_list[3]))\n",
    "# pyval = book_choice_df_list[3].item()\n",
    "# print(type(pyval))\n",
    "# book_choice_dict = book_choice_df.to_dict()\n",
    "# print(book_choice_dict['Price'], type(book_choice_dict['Price']))\n",
    "# book_name = book_choice_dict[0][0]\n",
    "# print(book_name, type(book_name))\n",
    "\n",
    "# # login_df.loc[(login_df['id'] == 'qwe') & (login_df['pw'] == 'qwe')]['nickname'].values[0]\n",
    "# product_book_df = pd.DataFrame( columns=['Name', 'Author', 'User', 'Rating', 'Reviews', 'Price', 'Year', 'Genre'])\n",
    "product_book_df = product_df.loc[(product_df['Name'] == '10-Day Green Smoothie Cleanse')&(product_df['Author'] == 'JJ Smith')&(product_df['Price'] == 8)&(product_df['Year'] == 2016)]\n",
    "# product_book_user_df = product_df.loc[(product_df['Name'] == '10-Day Green Smoothie Cleanse')&(product_df['Author'] == 'JJ Smith')&(product_df['Price'] == 8)&(product_df['Year'] == 2016)]\n",
    "# # bag_df = pd.read_csv(\"C:/Users/mingzzang/Desktop/bag.csv\")\n",
    "# # bag_df = bag_df.append(product_book_df)\n",
    "# # bag_df\n",
    "# # product_book_df\n",
    "# # price_hab = sum(product_df['Price'].values)\n",
    "# # print(hab)\n",
    "# # arr = product_df['Name'].values\n",
    "\n",
    "# # df[\"name\"][0] = \"sdfkl;fsdk;lsfd\"\n",
    "# # print(type(arr))\n",
    "# # product_book_df.to_csv(f'C:/Users/mingzzang/Desktop/bag121333332.csv')\n",
    "# # product_book_df.concat(product_book_user_df)\n",
    "# # product_book_user_df\n",
    "# # print(product_book_df.columns)\n",
    "# # print(product_book_df.)\n",
    "# # product_book_df.concat(product_book_user_df)\n",
    "# # product_book_df\n",
    "# # print(type(product_book_user_df))\n",
    "# # num = int(product_book_user_df)\n",
    "# # print(type(num))\n",
    "# product_book_user_df\n",
    "\n",
    "arr = product_book_df.values.tolist()\n",
    "print(arr, type(arr))\n",
    "arr2 = []\n",
    "for i in range(7):\n",
    "    arr2.append(arr[0][i])\n",
    "print(arr2)"
   ]
  },
  {
   "cell_type": "code",
   "execution_count": 3,
   "metadata": {},
   "outputs": [
    {
     "output_type": "execute_result",
     "data": {
      "text/plain": [
       "Empty DataFrame\n",
       "Columns: [Unnamed: 0, Name, Author, User Rating, Reviews, Price, Year, Genre]\n",
       "Index: []"
      ],
      "text/html": "<div>\n<style scoped>\n    .dataframe tbody tr th:only-of-type {\n        vertical-align: middle;\n    }\n\n    .dataframe tbody tr th {\n        vertical-align: top;\n    }\n\n    .dataframe thead th {\n        text-align: right;\n    }\n</style>\n<table border=\"1\" class=\"dataframe\">\n  <thead>\n    <tr style=\"text-align: right;\">\n      <th></th>\n      <th>Unnamed: 0</th>\n      <th>Name</th>\n      <th>Author</th>\n      <th>User Rating</th>\n      <th>Reviews</th>\n      <th>Price</th>\n      <th>Year</th>\n      <th>Genre</th>\n    </tr>\n  </thead>\n  <tbody>\n  </tbody>\n</table>\n</div>"
     },
     "metadata": {},
     "execution_count": 3
    }
   ],
   "source": [
    "import pandas as pd\n",
    "\n",
    "product_user_book_df = pd.read_csv('C:/Users/mingzzang/Desktop/bagqwe.csv')\n",
    "product_user_book_df"
   ]
  },
  {
   "cell_type": "code",
   "execution_count": null,
   "metadata": {},
   "outputs": [],
   "source": [
    "def bag_make(self):\n",
    "    product_book_df = pd.DataFrame(columns=['Name', 'Author', 'User', 'Rating', 'Reviews', 'Price', 'Year', 'Genre'])\n",
    "    product_book_df.to_csv('C:/Users/mingzzang/Desktop/bag_123.csv')\n",
    " \n",
    "  # 장바구니에 담자\n",
    "  def bag_pack(self, book_name, book_author, book_price, book_Year):\n",
    "    product_df = self.product_df\n",
    "    product_user_book_df = product_df.loc[(product_df['Name'] == book_name)&(product_df['Author'] == book_author)&(product_df['Price'] == book_price)&(product_df['Year'] == book_Year)]\n",
    "    # 새로운 df에 적용시켜서 그걸 파일로 만들어야해\n",
    "    # 위에 만든 장바구니를 받아와서 여기다가 에펜드를 해주면 돼\n",
    "    product_user_book_df.to_csv(f'C:/Users/mingzzang/Desktop/bag_123.csv', mode='a', header=False)\n",
    "    return product_user_book_df\n",
    "\n",
    "  # 장바구니 가격 및 품목들 확인하기\n",
    "  def bag_check(self, product_user_book_df):\n",
    "    product_user_book_df = pd.read_csv(f'C:/Users/mingzzang/Desktop/bag{self.id}.csv')\n",
    "    price_hab = sum(product_user_book_df['Price'].values)\n",
    "    book_names = product_user_book_df['Name'].values\n",
    "    return price_hab, book_names"
   ]
  }
 ]
}