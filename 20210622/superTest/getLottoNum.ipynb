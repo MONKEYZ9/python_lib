{
 "metadata": {
  "language_info": {
   "codemirror_mode": {
    "name": "ipython",
    "version": 3
   },
   "file_extension": ".py",
   "mimetype": "text/x-python",
   "name": "python",
   "nbconvert_exporter": "python",
   "pygments_lexer": "ipython3",
   "version": "3.8.8"
  },
  "orig_nbformat": 4,
  "kernelspec": {
   "name": "python3",
   "display_name": "Python 3.8.8 64-bit ('base': conda)"
  },
  "interpreter": {
   "hash": "473a733fa75d3caf7e6d3c6c4b30480b56102ef8a0ba4c2db92fdbb905170b2b"
  }
 },
 "nbformat": 4,
 "nbformat_minor": 2,
 "cells": [
  {
   "cell_type": "code",
   "execution_count": 4,
   "metadata": {},
   "outputs": [
    {
     "output_type": "execute_result",
     "data": {
      "text/plain": [
       "      회차         추첨일  당첨번호1  당첨번호2  당첨번호3  당첨번호4  당첨번호5  당첨번호6  보너스\n",
       "0    968  2021.06.19      2      5     12     14     24     39   33\n",
       "1    967  2021.06.12      1      6     13     37     38     40    9\n",
       "2    966  2021.06.05      1     21     25     29     34     37   36\n",
       "3    965  2021.05.29      2     13     25     28     29     36   34\n",
       "4    964  2021.05.22      6     21     36     38     39     43   30\n",
       "..   ...         ...    ...    ...    ...    ...    ...    ...  ...\n",
       "963    5  2003.01.04     16     24     29     40     41     42    3\n",
       "964    4  2002.12.28     14     27     30     31     40     42    2\n",
       "965    3  2002.12.21     11     16     19     21     27     31   30\n",
       "966    2  2002.12.14      9     13     21     25     32     42    2\n",
       "967    1  2002.12.07     10     23     29     33     37     40   16\n",
       "\n",
       "[968 rows x 9 columns]"
      ],
      "text/html": "<div>\n<style scoped>\n    .dataframe tbody tr th:only-of-type {\n        vertical-align: middle;\n    }\n\n    .dataframe tbody tr th {\n        vertical-align: top;\n    }\n\n    .dataframe thead th {\n        text-align: right;\n    }\n</style>\n<table border=\"1\" class=\"dataframe\">\n  <thead>\n    <tr style=\"text-align: right;\">\n      <th></th>\n      <th>회차</th>\n      <th>추첨일</th>\n      <th>당첨번호1</th>\n      <th>당첨번호2</th>\n      <th>당첨번호3</th>\n      <th>당첨번호4</th>\n      <th>당첨번호5</th>\n      <th>당첨번호6</th>\n      <th>보너스</th>\n    </tr>\n  </thead>\n  <tbody>\n    <tr>\n      <th>0</th>\n      <td>968</td>\n      <td>2021.06.19</td>\n      <td>2</td>\n      <td>5</td>\n      <td>12</td>\n      <td>14</td>\n      <td>24</td>\n      <td>39</td>\n      <td>33</td>\n    </tr>\n    <tr>\n      <th>1</th>\n      <td>967</td>\n      <td>2021.06.12</td>\n      <td>1</td>\n      <td>6</td>\n      <td>13</td>\n      <td>37</td>\n      <td>38</td>\n      <td>40</td>\n      <td>9</td>\n    </tr>\n    <tr>\n      <th>2</th>\n      <td>966</td>\n      <td>2021.06.05</td>\n      <td>1</td>\n      <td>21</td>\n      <td>25</td>\n      <td>29</td>\n      <td>34</td>\n      <td>37</td>\n      <td>36</td>\n    </tr>\n    <tr>\n      <th>3</th>\n      <td>965</td>\n      <td>2021.05.29</td>\n      <td>2</td>\n      <td>13</td>\n      <td>25</td>\n      <td>28</td>\n      <td>29</td>\n      <td>36</td>\n      <td>34</td>\n    </tr>\n    <tr>\n      <th>4</th>\n      <td>964</td>\n      <td>2021.05.22</td>\n      <td>6</td>\n      <td>21</td>\n      <td>36</td>\n      <td>38</td>\n      <td>39</td>\n      <td>43</td>\n      <td>30</td>\n    </tr>\n    <tr>\n      <th>...</th>\n      <td>...</td>\n      <td>...</td>\n      <td>...</td>\n      <td>...</td>\n      <td>...</td>\n      <td>...</td>\n      <td>...</td>\n      <td>...</td>\n      <td>...</td>\n    </tr>\n    <tr>\n      <th>963</th>\n      <td>5</td>\n      <td>2003.01.04</td>\n      <td>16</td>\n      <td>24</td>\n      <td>29</td>\n      <td>40</td>\n      <td>41</td>\n      <td>42</td>\n      <td>3</td>\n    </tr>\n    <tr>\n      <th>964</th>\n      <td>4</td>\n      <td>2002.12.28</td>\n      <td>14</td>\n      <td>27</td>\n      <td>30</td>\n      <td>31</td>\n      <td>40</td>\n      <td>42</td>\n      <td>2</td>\n    </tr>\n    <tr>\n      <th>965</th>\n      <td>3</td>\n      <td>2002.12.21</td>\n      <td>11</td>\n      <td>16</td>\n      <td>19</td>\n      <td>21</td>\n      <td>27</td>\n      <td>31</td>\n      <td>30</td>\n    </tr>\n    <tr>\n      <th>966</th>\n      <td>2</td>\n      <td>2002.12.14</td>\n      <td>9</td>\n      <td>13</td>\n      <td>21</td>\n      <td>25</td>\n      <td>32</td>\n      <td>42</td>\n      <td>2</td>\n    </tr>\n    <tr>\n      <th>967</th>\n      <td>1</td>\n      <td>2002.12.07</td>\n      <td>10</td>\n      <td>23</td>\n      <td>29</td>\n      <td>33</td>\n      <td>37</td>\n      <td>40</td>\n      <td>16</td>\n    </tr>\n  </tbody>\n</table>\n<p>968 rows × 9 columns</p>\n</div>"
     },
     "metadata": {},
     "execution_count": 4
    }
   ],
   "source": [
    "import pandas as pd\n",
    "# 먼저 파일을 불러오자\n",
    "lotto_data = pd.read_csv('C:/Users/mingzzang/Desktop/20210622/Super-Project-20210622T000508Z-001/Super-Project/dataset/lotto - data.csv')\n",
    "\n",
    "lotto_data"
   ]
  },
  {
   "cell_type": "code",
   "execution_count": 5,
   "metadata": {},
   "outputs": [
    {
     "output_type": "execute_result",
     "data": {
      "text/plain": [
       "      회차         추첨일  당첨번호1  당첨번호2  당첨번호3  당첨번호4  당첨번호5  당첨번호6  보너스    추첨일 나누기\n",
       "0    968  2021.06.19      2      5     12     14     24     39   33 2021-06-19\n",
       "1    967  2021.06.12      1      6     13     37     38     40    9 2021-06-12\n",
       "2    966  2021.06.05      1     21     25     29     34     37   36 2021-06-05\n",
       "3    965  2021.05.29      2     13     25     28     29     36   34 2021-05-29\n",
       "4    964  2021.05.22      6     21     36     38     39     43   30 2021-05-22\n",
       "..   ...         ...    ...    ...    ...    ...    ...    ...  ...        ...\n",
       "963    5  2003.01.04     16     24     29     40     41     42    3 2003-01-04\n",
       "964    4  2002.12.28     14     27     30     31     40     42    2 2002-12-28\n",
       "965    3  2002.12.21     11     16     19     21     27     31   30 2002-12-21\n",
       "966    2  2002.12.14      9     13     21     25     32     42    2 2002-12-14\n",
       "967    1  2002.12.07     10     23     29     33     37     40   16 2002-12-07\n",
       "\n",
       "[968 rows x 10 columns]"
      ],
      "text/html": "<div>\n<style scoped>\n    .dataframe tbody tr th:only-of-type {\n        vertical-align: middle;\n    }\n\n    .dataframe tbody tr th {\n        vertical-align: top;\n    }\n\n    .dataframe thead th {\n        text-align: right;\n    }\n</style>\n<table border=\"1\" class=\"dataframe\">\n  <thead>\n    <tr style=\"text-align: right;\">\n      <th></th>\n      <th>회차</th>\n      <th>추첨일</th>\n      <th>당첨번호1</th>\n      <th>당첨번호2</th>\n      <th>당첨번호3</th>\n      <th>당첨번호4</th>\n      <th>당첨번호5</th>\n      <th>당첨번호6</th>\n      <th>보너스</th>\n      <th>추첨일 나누기</th>\n    </tr>\n  </thead>\n  <tbody>\n    <tr>\n      <th>0</th>\n      <td>968</td>\n      <td>2021.06.19</td>\n      <td>2</td>\n      <td>5</td>\n      <td>12</td>\n      <td>14</td>\n      <td>24</td>\n      <td>39</td>\n      <td>33</td>\n      <td>2021-06-19</td>\n    </tr>\n    <tr>\n      <th>1</th>\n      <td>967</td>\n      <td>2021.06.12</td>\n      <td>1</td>\n      <td>6</td>\n      <td>13</td>\n      <td>37</td>\n      <td>38</td>\n      <td>40</td>\n      <td>9</td>\n      <td>2021-06-12</td>\n    </tr>\n    <tr>\n      <th>2</th>\n      <td>966</td>\n      <td>2021.06.05</td>\n      <td>1</td>\n      <td>21</td>\n      <td>25</td>\n      <td>29</td>\n      <td>34</td>\n      <td>37</td>\n      <td>36</td>\n      <td>2021-06-05</td>\n    </tr>\n    <tr>\n      <th>3</th>\n      <td>965</td>\n      <td>2021.05.29</td>\n      <td>2</td>\n      <td>13</td>\n      <td>25</td>\n      <td>28</td>\n      <td>29</td>\n      <td>36</td>\n      <td>34</td>\n      <td>2021-05-29</td>\n    </tr>\n    <tr>\n      <th>4</th>\n      <td>964</td>\n      <td>2021.05.22</td>\n      <td>6</td>\n      <td>21</td>\n      <td>36</td>\n      <td>38</td>\n      <td>39</td>\n      <td>43</td>\n      <td>30</td>\n      <td>2021-05-22</td>\n    </tr>\n    <tr>\n      <th>...</th>\n      <td>...</td>\n      <td>...</td>\n      <td>...</td>\n      <td>...</td>\n      <td>...</td>\n      <td>...</td>\n      <td>...</td>\n      <td>...</td>\n      <td>...</td>\n      <td>...</td>\n    </tr>\n    <tr>\n      <th>963</th>\n      <td>5</td>\n      <td>2003.01.04</td>\n      <td>16</td>\n      <td>24</td>\n      <td>29</td>\n      <td>40</td>\n      <td>41</td>\n      <td>42</td>\n      <td>3</td>\n      <td>2003-01-04</td>\n    </tr>\n    <tr>\n      <th>964</th>\n      <td>4</td>\n      <td>2002.12.28</td>\n      <td>14</td>\n      <td>27</td>\n      <td>30</td>\n      <td>31</td>\n      <td>40</td>\n      <td>42</td>\n      <td>2</td>\n      <td>2002-12-28</td>\n    </tr>\n    <tr>\n      <th>965</th>\n      <td>3</td>\n      <td>2002.12.21</td>\n      <td>11</td>\n      <td>16</td>\n      <td>19</td>\n      <td>21</td>\n      <td>27</td>\n      <td>31</td>\n      <td>30</td>\n      <td>2002-12-21</td>\n    </tr>\n    <tr>\n      <th>966</th>\n      <td>2</td>\n      <td>2002.12.14</td>\n      <td>9</td>\n      <td>13</td>\n      <td>21</td>\n      <td>25</td>\n      <td>32</td>\n      <td>42</td>\n      <td>2</td>\n      <td>2002-12-14</td>\n    </tr>\n    <tr>\n      <th>967</th>\n      <td>1</td>\n      <td>2002.12.07</td>\n      <td>10</td>\n      <td>23</td>\n      <td>29</td>\n      <td>33</td>\n      <td>37</td>\n      <td>40</td>\n      <td>16</td>\n      <td>2002-12-07</td>\n    </tr>\n  </tbody>\n</table>\n<p>968 rows × 10 columns</p>\n</div>"
     },
     "metadata": {},
     "execution_count": 5
    }
   ],
   "source": [
    "# 날짜를 처리하라고 하는데\n",
    "# 년 월 일을 나눠서 보자\n",
    "lotto_data['추첨일 나누기'] = pd.to_datetime(lotto_data['추첨일'])\n",
    "lotto_data"
   ]
  },
  {
   "cell_type": "code",
   "execution_count": 6,
   "metadata": {},
   "outputs": [
    {
     "output_type": "execute_result",
     "data": {
      "text/plain": [
       "      회차  당첨번호1  당첨번호2  당첨번호3  당첨번호4  당첨번호5  당첨번호6  보너스  추첨일 년  추첨일 월  추첨일 일\n",
       "0    968      2      5     12     14     24     39   33   2021      6     19\n",
       "1    967      1      6     13     37     38     40    9   2021      6     12\n",
       "2    966      1     21     25     29     34     37   36   2021      6      5\n",
       "3    965      2     13     25     28     29     36   34   2021      5     29\n",
       "4    964      6     21     36     38     39     43   30   2021      5     22\n",
       "..   ...    ...    ...    ...    ...    ...    ...  ...    ...    ...    ...\n",
       "963    5     16     24     29     40     41     42    3   2003      1      4\n",
       "964    4     14     27     30     31     40     42    2   2002     12     28\n",
       "965    3     11     16     19     21     27     31   30   2002     12     21\n",
       "966    2      9     13     21     25     32     42    2   2002     12     14\n",
       "967    1     10     23     29     33     37     40   16   2002     12      7\n",
       "\n",
       "[968 rows x 11 columns]"
      ],
      "text/html": "<div>\n<style scoped>\n    .dataframe tbody tr th:only-of-type {\n        vertical-align: middle;\n    }\n\n    .dataframe tbody tr th {\n        vertical-align: top;\n    }\n\n    .dataframe thead th {\n        text-align: right;\n    }\n</style>\n<table border=\"1\" class=\"dataframe\">\n  <thead>\n    <tr style=\"text-align: right;\">\n      <th></th>\n      <th>회차</th>\n      <th>당첨번호1</th>\n      <th>당첨번호2</th>\n      <th>당첨번호3</th>\n      <th>당첨번호4</th>\n      <th>당첨번호5</th>\n      <th>당첨번호6</th>\n      <th>보너스</th>\n      <th>추첨일 년</th>\n      <th>추첨일 월</th>\n      <th>추첨일 일</th>\n    </tr>\n  </thead>\n  <tbody>\n    <tr>\n      <th>0</th>\n      <td>968</td>\n      <td>2</td>\n      <td>5</td>\n      <td>12</td>\n      <td>14</td>\n      <td>24</td>\n      <td>39</td>\n      <td>33</td>\n      <td>2021</td>\n      <td>6</td>\n      <td>19</td>\n    </tr>\n    <tr>\n      <th>1</th>\n      <td>967</td>\n      <td>1</td>\n      <td>6</td>\n      <td>13</td>\n      <td>37</td>\n      <td>38</td>\n      <td>40</td>\n      <td>9</td>\n      <td>2021</td>\n      <td>6</td>\n      <td>12</td>\n    </tr>\n    <tr>\n      <th>2</th>\n      <td>966</td>\n      <td>1</td>\n      <td>21</td>\n      <td>25</td>\n      <td>29</td>\n      <td>34</td>\n      <td>37</td>\n      <td>36</td>\n      <td>2021</td>\n      <td>6</td>\n      <td>5</td>\n    </tr>\n    <tr>\n      <th>3</th>\n      <td>965</td>\n      <td>2</td>\n      <td>13</td>\n      <td>25</td>\n      <td>28</td>\n      <td>29</td>\n      <td>36</td>\n      <td>34</td>\n      <td>2021</td>\n      <td>5</td>\n      <td>29</td>\n    </tr>\n    <tr>\n      <th>4</th>\n      <td>964</td>\n      <td>6</td>\n      <td>21</td>\n      <td>36</td>\n      <td>38</td>\n      <td>39</td>\n      <td>43</td>\n      <td>30</td>\n      <td>2021</td>\n      <td>5</td>\n      <td>22</td>\n    </tr>\n    <tr>\n      <th>...</th>\n      <td>...</td>\n      <td>...</td>\n      <td>...</td>\n      <td>...</td>\n      <td>...</td>\n      <td>...</td>\n      <td>...</td>\n      <td>...</td>\n      <td>...</td>\n      <td>...</td>\n      <td>...</td>\n    </tr>\n    <tr>\n      <th>963</th>\n      <td>5</td>\n      <td>16</td>\n      <td>24</td>\n      <td>29</td>\n      <td>40</td>\n      <td>41</td>\n      <td>42</td>\n      <td>3</td>\n      <td>2003</td>\n      <td>1</td>\n      <td>4</td>\n    </tr>\n    <tr>\n      <th>964</th>\n      <td>4</td>\n      <td>14</td>\n      <td>27</td>\n      <td>30</td>\n      <td>31</td>\n      <td>40</td>\n      <td>42</td>\n      <td>2</td>\n      <td>2002</td>\n      <td>12</td>\n      <td>28</td>\n    </tr>\n    <tr>\n      <th>965</th>\n      <td>3</td>\n      <td>11</td>\n      <td>16</td>\n      <td>19</td>\n      <td>21</td>\n      <td>27</td>\n      <td>31</td>\n      <td>30</td>\n      <td>2002</td>\n      <td>12</td>\n      <td>21</td>\n    </tr>\n    <tr>\n      <th>966</th>\n      <td>2</td>\n      <td>9</td>\n      <td>13</td>\n      <td>21</td>\n      <td>25</td>\n      <td>32</td>\n      <td>42</td>\n      <td>2</td>\n      <td>2002</td>\n      <td>12</td>\n      <td>14</td>\n    </tr>\n    <tr>\n      <th>967</th>\n      <td>1</td>\n      <td>10</td>\n      <td>23</td>\n      <td>29</td>\n      <td>33</td>\n      <td>37</td>\n      <td>40</td>\n      <td>16</td>\n      <td>2002</td>\n      <td>12</td>\n      <td>7</td>\n    </tr>\n  </tbody>\n</table>\n<p>968 rows × 11 columns</p>\n</div>"
     },
     "metadata": {},
     "execution_count": 6
    }
   ],
   "source": [
    "# 년월일 데이터로 나누자\n",
    "lotto_data['추첨일 년'] = pd.to_datetime(lotto_data['추첨일']).dt.year\n",
    "lotto_data['추첨일 월'] = pd.to_datetime(lotto_data['추첨일']).dt.month\n",
    "lotto_data['추첨일 일'] = pd.to_datetime(lotto_data['추첨일']).dt.day\n",
    "# 기존 추첨일이랑 추첨일 나누기 없애자\n",
    "del lotto_data['추첨일 나누기'], lotto_data['추첨일']\n",
    "lotto_data"
   ]
  },
  {
   "cell_type": "code",
   "execution_count": null,
   "metadata": {},
   "outputs": [],
   "source": [
    "# 그 다음은 그래프로 그리고 보자는 건데 이건 도통 모르겠다"
   ]
  }
 ]
}