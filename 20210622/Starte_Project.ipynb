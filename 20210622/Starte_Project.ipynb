{
 "metadata": {
  "language_info": {
   "codemirror_mode": {
    "name": "ipython",
    "version": 3
   },
   "file_extension": ".py",
   "mimetype": "text/x-python",
   "name": "python",
   "nbconvert_exporter": "python",
   "pygments_lexer": "ipython3",
   "version": "3.8.8"
  },
  "orig_nbformat": 4,
  "kernelspec": {
   "name": "python3",
   "display_name": "Python 3.8.8 64-bit ('base': conda)"
  },
  "interpreter": {
   "hash": "473a733fa75d3caf7e6d3c6c4b30480b56102ef8a0ba4c2db92fdbb905170b2b"
  }
 },
 "nbformat": 4,
 "nbformat_minor": 2,
 "cells": [
  {
   "cell_type": "code",
   "execution_count": 3,
   "metadata": {},
   "outputs": [
    {
     "output_type": "stream",
     "name": "stdout",
     "text": [
      "변수 값: 3\n변수 자료형 : <class 'int'> \n\n변수 값: 11.3\n변수 자료형 : <class 'float'> \n\n변수 값: Gwangju\n변수 자료형 : <class 'str'> \n\n변수 값: {'음식가격': 3000}\n변수 자료형 : <class 'dict'> \n\n변수 값: [1, 2, 3]\n변수 자료형 : <class 'list'> \n\n변수 값: (33, 44, 55)\n변수 자료형 : <class 'tuple'> \n\n"
     ]
    }
   ],
   "source": [
    "# 변수 값: 3\n",
    "# 변수 자료형 : <class 'int'> \n",
    "\n",
    "# 변수 값: 11.3\n",
    "# 변수 자료형 : <class 'float'> \n",
    "\n",
    "# 변수 값: Gwangju\n",
    "# 변수 자료형 : <class 'str'> \n",
    "\n",
    "# 변수 값: {'음식가격': 3000}\n",
    "# 변수 자료형 : <class 'dict'> \n",
    "\n",
    "# 변수 값: [1, 2, 3]\n",
    "# 변수 자료형 : <class 'list'> \n",
    "\n",
    "# 변수 값: (33, 44, 55)\n",
    "# 변수 자료형 : <class 'tuple'> \n",
    "# Q1 변수의 선언, 변수 자료형의 소개\n",
    "\n",
    "def variable_confirm( values_list ) : # 변수 자료형을 분석해주는 함수 선언\n",
    "  for i in range( len(values_list) ) : # 변수별로 분석하기 위한 반복문\n",
    "      print( f'변수 값: {values[i]}' ) # 변수의 값\n",
    "      print( f'변수 자료형 : {type(values[i])} \\n' ) # 변수의 자료형\n",
    "\n",
    "values = [3, 11.3, \"Gwangju\", {\"음식가격\" : 3000}, [1,2,3], (33, 44, 55)] # 분석을 위해 선언한 리스트\n",
    "variable_confirm(values) # 리스트를 실행한 함수"
   ]
  },
  {
   "cell_type": "code",
   "execution_count": 1,
   "metadata": {},
   "outputs": [
    {
     "output_type": "stream",
     "name": "stdout",
     "text": [
      "['s**********', '010-4***-0***']\n"
     ]
    }
   ],
   "source": [
    "# Q2 리스트와 리스트 기능 활용\n",
    "my_Info = input('이름과 연락처를 입력해주세요(예시 : 홍길동, 010-1234-5678)').split(', ')\n",
    "def make_myInfo_Secret(my_Info):\n",
    "\n",
    "    # 이상민, 010-4514-0650\n",
    "    name_marking = ''\n",
    "    for i in range(len(my_Info[0])-1):\n",
    "        name_marking += '*'\n",
    "    # 이름 마킹 성공\n",
    "    new_name = (my_Info[0].replace(my_Info[0][1:len(my_Info[0])], name_marking))\n",
    "\n",
    "    # 핸드폰 번호 마킹 시작\n",
    "    # 핸드폰 번호는\n",
    "    my_phoneNum = my_Info[1].split('-')\n",
    "    # print(my_phoneNum) ['010', '4514', '0650']\n",
    "    # 앞에랑 뒤에를 둘다 *처리 해줘야 해\n",
    "    # 새로운 핸드폰 리스트를 만들고\n",
    "    new_phoneNum_list = []\n",
    "    # 010추가하고\n",
    "    new_phoneNum_list.append(my_phoneNum[0])\n",
    "    phone_marking = ''\n",
    "    for i in range(1, len(my_phoneNum)):\n",
    "        for i2 in range(1, len(my_phoneNum[i])):\n",
    "            phone_marking += '*'\n",
    "        newNum = my_phoneNum[i].replace(my_phoneNum[i][1:len(my_phoneNum[i])], phone_marking)\n",
    "        new_phoneNum_list.append(newNum)\n",
    "        phone_marking = ''\n",
    "    new_phoneNum = ''\n",
    "    for i in range(len(new_phoneNum_list)):\n",
    "        if i == len(new_phoneNum_list)-1:\n",
    "            new_phoneNum += new_phoneNum_list[i]\n",
    "        else:\n",
    "            new_phoneNum += new_phoneNum_list[i] + '-'\n",
    "    lists = [new_name, new_phoneNum]\n",
    "    return lists\n",
    "result = make_myInfo_Secret(my_Info)\n",
    "print(result)\n",
    "# 튜플로 된걸 못 바꾸나\n",
    "\n"
   ]
  },
  {
   "cell_type": "code",
   "execution_count": 58,
   "metadata": {},
   "outputs": [
    {
     "output_type": "stream",
     "name": "stdout",
     "text": [
      "Q1. 진짜 추워의 반대말은?\n",
      "A1 틀렸습니다.\n",
      "Q2. 송해 할아버지가 샤워를 하면?\n",
      "A2 틀렸습니다.\n",
      "Q3. 가장 억울한 도형은?\n",
      "A3 틀렸습니다.\n"
     ]
    }
   ],
   "source": [
    "import time\n",
    "import os\n",
    "# Q3 반복문과 조건문 활용\n",
    "\n",
    "Life = 1 # Life 변수 선언\n",
    "Q = [\"진짜 추워의 반대말은?\", \"송해 할아버지가 샤워를 하면?\", \"가장 억울한 도형은?\"]\n",
    "\n",
    "for i in range( len(Q) ) : # For 문 진행\n",
    "    A = input( f\"Q{i+1}. {Q[i]}\") # 입력 받기\n",
    "    print('Q'+str(i+1)+'.', Q[i])\n",
    "    if i == 0 and A == \"아마추어\" :\n",
    "        print(\"A1 정답입니다.\")\n",
    "    elif i == 1 and A == \"뽀송뽀송해\" :\n",
    "        print(\"A2 정답입니다.\")\n",
    "    elif i == 2 and A == \"원통\" :\n",
    "        print(\"A3 정답입니다.\")\n",
    "    else :\n",
    "        print(\"A{} 틀렸습니다.\".format(i+1))\n"
   ]
  },
  {
   "cell_type": "code",
   "execution_count": 59,
   "metadata": {},
   "outputs": [
    {
     "output_type": "error",
     "ename": "ModuleNotFoundError",
     "evalue": "No module named 'sixclass'",
     "traceback": [
      "\u001b[1;31m---------------------------------------------------------------------------\u001b[0m",
      "\u001b[1;31mModuleNotFoundError\u001b[0m                       Traceback (most recent call last)",
      "\u001b[1;32m<ipython-input-59-b2fcac3e678e>\u001b[0m in \u001b[0;36m<module>\u001b[1;34m\u001b[0m\n\u001b[0;32m      1\u001b[0m \u001b[1;31m# Q4 파이썬 Pre 내용을 활용한 전기 고지서 프로그램 만들기\u001b[0m\u001b[1;33m\u001b[0m\u001b[1;33m\u001b[0m\u001b[1;33m\u001b[0m\u001b[0m\n\u001b[1;32m----> 2\u001b[1;33m \u001b[1;32mfrom\u001b[0m \u001b[0msixclass\u001b[0m \u001b[1;32mimport\u001b[0m \u001b[0mSix_Class\u001b[0m\u001b[1;33m\u001b[0m\u001b[1;33m\u001b[0m\u001b[0m\n\u001b[0m\u001b[0;32m      3\u001b[0m \u001b[1;33m\u001b[0m\u001b[0m\n\u001b[0;32m      4\u001b[0m \u001b[0melectric_bill\u001b[0m \u001b[1;33m=\u001b[0m \u001b[0mSix_Class\u001b[0m\u001b[1;33m(\u001b[0m\u001b[1;34m\"박선호\"\u001b[0m\u001b[1;33m,\u001b[0m \u001b[1;36m44\u001b[0m\u001b[1;33m,\u001b[0m \u001b[1;34m\"여성\"\u001b[0m\u001b[1;33m,\u001b[0m \u001b[1;34m\"010-3233-1133\"\u001b[0m\u001b[1;33m,\u001b[0m \u001b[1;36m332\u001b[0m\u001b[1;33m,\u001b[0m \u001b[1;34m\"contests.y@gmail.com\"\u001b[0m\u001b[1;33m)\u001b[0m\u001b[1;33m\u001b[0m\u001b[1;33m\u001b[0m\u001b[0m\n\u001b[0;32m      5\u001b[0m \u001b[0melectric_bill\u001b[0m\u001b[1;33m.\u001b[0m\u001b[0mage_gender\u001b[0m\u001b[1;33m(\u001b[0m\u001b[1;33m)\u001b[0m\u001b[1;33m\u001b[0m\u001b[1;33m\u001b[0m\u001b[0m\n",
      "\u001b[1;31mModuleNotFoundError\u001b[0m: No module named 'sixclass'"
     ]
    }
   ],
   "source": [
    "# Q4 파이썬 Pre 내용을 활용한 전기 고지서 프로그램 만들기\n",
    "from sixclass import Six_Class\n",
    "\n",
    "electric_bill = Six_Class(\"박선호\", 44, \"여성\", \"010-3233-1133\", 332, \"contests.y@gmail.com\")\n",
    "electric_bill.age_gender()\n",
    "# electric_bill.send_mail()"
   ]
  },
  {
   "cell_type": "code",
   "execution_count": null,
   "metadata": {},
   "outputs": [],
   "source": []
  }
 ]
}