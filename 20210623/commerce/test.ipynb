{
 "metadata": {
  "language_info": {
   "codemirror_mode": {
    "name": "ipython",
    "version": 3
   },
   "file_extension": ".py",
   "mimetype": "text/x-python",
   "name": "python",
   "nbconvert_exporter": "python",
   "pygments_lexer": "ipython3",
   "version": "3.8.8"
  },
  "orig_nbformat": 4,
  "kernelspec": {
   "name": "python3",
   "display_name": "Python 3.8.8 64-bit ('base': conda)"
  },
  "interpreter": {
   "hash": "473a733fa75d3caf7e6d3c6c4b30480b56102ef8a0ba4c2db92fdbb905170b2b"
  }
 },
 "nbformat": 4,
 "nbformat_minor": 2,
 "cells": [
  {
   "cell_type": "code",
   "execution_count": 24,
   "metadata": {},
   "outputs": [
    {
     "output_type": "execute_result",
     "data": {
      "text/plain": [
       "'login_complete'"
      ]
     },
     "metadata": {},
     "execution_count": 24
    }
   ],
   "source": [
    "from myModule.member import Commerce6_login\n",
    "test = Commerce6_login('qwe', 'qwe')\n",
    "test.login_doit()\n"
   ]
  },
  {
   "cell_type": "code",
   "execution_count": 9,
   "metadata": {},
   "outputs": [
    {
     "output_type": "stream",
     "name": "stdout",
     "text": [
      "잇다\n"
     ]
    }
   ],
   "source": [
    "import pandas as pd\n",
    "login_df = pd.read_csv(\"C:/Users/mingzzang/Desktop/idPw.csv\")\n",
    "login_df['id'].values\n",
    "if 'qwe' in login_df['id'].values:\n",
    "    print('잇다')\n",
    "else:\n",
    "    print('없다')"
   ]
  },
  {
   "cell_type": "code",
   "execution_count": 27,
   "metadata": {},
   "outputs": [
    {
     "output_type": "error",
     "ename": "TypeError",
     "evalue": "__init__() missing 2 required positional arguments: 'id' and 'pw'",
     "traceback": [
      "\u001b[1;31m---------------------------------------------------------------------------\u001b[0m",
      "\u001b[1;31mTypeError\u001b[0m                                 Traceback (most recent call last)",
      "\u001b[1;32m<ipython-input-27-14dc4ff0515c>\u001b[0m in \u001b[0;36m<module>\u001b[1;34m\u001b[0m\n\u001b[0;32m      1\u001b[0m \u001b[1;32mfrom\u001b[0m \u001b[0mmyModule\u001b[0m\u001b[1;33m.\u001b[0m\u001b[0mmember\u001b[0m \u001b[1;32mimport\u001b[0m \u001b[0mCommerce6_login\u001b[0m\u001b[1;33m\u001b[0m\u001b[1;33m\u001b[0m\u001b[0m\n\u001b[1;32m----> 2\u001b[1;33m \u001b[0mtest\u001b[0m \u001b[1;33m=\u001b[0m \u001b[0mCommerce6_login\u001b[0m\u001b[1;33m(\u001b[0m\u001b[1;33m)\u001b[0m\u001b[1;33m\u001b[0m\u001b[1;33m\u001b[0m\u001b[0m\n\u001b[0m\u001b[0;32m      3\u001b[0m \u001b[0mtest\u001b[0m\u001b[1;33m.\u001b[0m\u001b[0mlogin_guest\u001b[0m\u001b[1;33m(\u001b[0m\u001b[1;33m)\u001b[0m\u001b[1;33m\u001b[0m\u001b[1;33m\u001b[0m\u001b[0m\n",
      "\u001b[1;31mTypeError\u001b[0m: __init__() missing 2 required positional arguments: 'id' and 'pw'"
     ]
    }
   ],
   "source": [
    "from myModule.member import Commerce6_login\n",
    "test = Commerce6_login()\n",
    "test.login_guest()"
   ]
  },
  {
   "cell_type": "code",
   "execution_count": 15,
   "metadata": {},
   "outputs": [
    {
     "output_type": "execute_result",
     "data": {
      "text/plain": [
       "  id2 pw2 nickname2 location2\n",
       "0  id  pw  nickname  location"
      ],
      "text/html": "<div>\n<style scoped>\n    .dataframe tbody tr th:only-of-type {\n        vertical-align: middle;\n    }\n\n    .dataframe tbody tr th {\n        vertical-align: top;\n    }\n\n    .dataframe thead th {\n        text-align: right;\n    }\n</style>\n<table border=\"1\" class=\"dataframe\">\n  <thead>\n    <tr style=\"text-align: right;\">\n      <th></th>\n      <th>id2</th>\n      <th>pw2</th>\n      <th>nickname2</th>\n      <th>location2</th>\n    </tr>\n  </thead>\n  <tbody>\n    <tr>\n      <th>0</th>\n      <td>id</td>\n      <td>pw</td>\n      <td>nickname</td>\n      <td>location</td>\n    </tr>\n  </tbody>\n</table>\n</div>"
     },
     "metadata": {},
     "execution_count": 15
    }
   ],
   "source": [
    "import pandas as pd\n",
    "import numpy as np\n",
    "info_table = ['id',\t'pw',\t'nickname',\t'location']\n",
    "info_table2 = ['id2',\t'pw2',\t'nickname2',\t'location2']\n",
    "\n",
    "return_table_df = pd.DataFrame( np.array(info_table).reshape(1, -1), columns=info_table2 )\n",
    "return_table_df"
   ]
  },
  {
   "cell_type": "code",
   "execution_count": null,
   "metadata": {},
   "outputs": [],
   "source": []
  }
 ]
}