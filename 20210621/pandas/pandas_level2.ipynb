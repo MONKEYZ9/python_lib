{
 "metadata": {
  "language_info": {
   "codemirror_mode": {
    "name": "ipython",
    "version": 3
   },
   "file_extension": ".py",
   "mimetype": "text/x-python",
   "name": "python",
   "nbconvert_exporter": "python",
   "pygments_lexer": "ipython3",
   "version": "3.8.8"
  },
  "orig_nbformat": 4,
  "kernelspec": {
   "name": "python3",
   "display_name": "Python 3.8.8 64-bit ('base': conda)"
  },
  "interpreter": {
   "hash": "473a733fa75d3caf7e6d3c6c4b30480b56102ef8a0ba4c2db92fdbb905170b2b"
  }
 },
 "nbformat": 4,
 "nbformat_minor": 2,
 "cells": [
  {
   "cell_type": "code",
   "execution_count": 68,
   "metadata": {},
   "outputs": [
    {
     "output_type": "execute_result",
     "data": {
      "text/plain": [
       "     임신  포도당  혈압  피부 두께  인슐린   BMI  당뇨계열 병  나이  결과\n",
       "0     6  148  72     35    0  33.6   0.627  50   1\n",
       "1     1   85  66     29    0  26.6   0.351  31   0\n",
       "2     8  183  64      0    0  23.3   0.672  32   1\n",
       "3     1   89  66     23   94  28.1   0.167  21   0\n",
       "4     0  137  40     35  168  43.1   2.288  33   1\n",
       "..   ..  ...  ..    ...  ...   ...     ...  ..  ..\n",
       "763  10  101  76     48  180  32.9   0.171  63   0\n",
       "764   2  122  70     27    0  36.8   0.340  27   0\n",
       "765   5  121  72     23  112  26.2   0.245  30   0\n",
       "766   1  126  60      0    0  30.1   0.349  47   1\n",
       "767   1   93  70     31    0  30.4   0.315  23   0\n",
       "\n",
       "[768 rows x 9 columns]"
      ],
      "text/html": "<div>\n<style scoped>\n    .dataframe tbody tr th:only-of-type {\n        vertical-align: middle;\n    }\n\n    .dataframe tbody tr th {\n        vertical-align: top;\n    }\n\n    .dataframe thead th {\n        text-align: right;\n    }\n</style>\n<table border=\"1\" class=\"dataframe\">\n  <thead>\n    <tr style=\"text-align: right;\">\n      <th></th>\n      <th>임신</th>\n      <th>포도당</th>\n      <th>혈압</th>\n      <th>피부 두께</th>\n      <th>인슐린</th>\n      <th>BMI</th>\n      <th>당뇨계열 병</th>\n      <th>나이</th>\n      <th>결과</th>\n    </tr>\n  </thead>\n  <tbody>\n    <tr>\n      <th>0</th>\n      <td>6</td>\n      <td>148</td>\n      <td>72</td>\n      <td>35</td>\n      <td>0</td>\n      <td>33.6</td>\n      <td>0.627</td>\n      <td>50</td>\n      <td>1</td>\n    </tr>\n    <tr>\n      <th>1</th>\n      <td>1</td>\n      <td>85</td>\n      <td>66</td>\n      <td>29</td>\n      <td>0</td>\n      <td>26.6</td>\n      <td>0.351</td>\n      <td>31</td>\n      <td>0</td>\n    </tr>\n    <tr>\n      <th>2</th>\n      <td>8</td>\n      <td>183</td>\n      <td>64</td>\n      <td>0</td>\n      <td>0</td>\n      <td>23.3</td>\n      <td>0.672</td>\n      <td>32</td>\n      <td>1</td>\n    </tr>\n    <tr>\n      <th>3</th>\n      <td>1</td>\n      <td>89</td>\n      <td>66</td>\n      <td>23</td>\n      <td>94</td>\n      <td>28.1</td>\n      <td>0.167</td>\n      <td>21</td>\n      <td>0</td>\n    </tr>\n    <tr>\n      <th>4</th>\n      <td>0</td>\n      <td>137</td>\n      <td>40</td>\n      <td>35</td>\n      <td>168</td>\n      <td>43.1</td>\n      <td>2.288</td>\n      <td>33</td>\n      <td>1</td>\n    </tr>\n    <tr>\n      <th>...</th>\n      <td>...</td>\n      <td>...</td>\n      <td>...</td>\n      <td>...</td>\n      <td>...</td>\n      <td>...</td>\n      <td>...</td>\n      <td>...</td>\n      <td>...</td>\n    </tr>\n    <tr>\n      <th>763</th>\n      <td>10</td>\n      <td>101</td>\n      <td>76</td>\n      <td>48</td>\n      <td>180</td>\n      <td>32.9</td>\n      <td>0.171</td>\n      <td>63</td>\n      <td>0</td>\n    </tr>\n    <tr>\n      <th>764</th>\n      <td>2</td>\n      <td>122</td>\n      <td>70</td>\n      <td>27</td>\n      <td>0</td>\n      <td>36.8</td>\n      <td>0.340</td>\n      <td>27</td>\n      <td>0</td>\n    </tr>\n    <tr>\n      <th>765</th>\n      <td>5</td>\n      <td>121</td>\n      <td>72</td>\n      <td>23</td>\n      <td>112</td>\n      <td>26.2</td>\n      <td>0.245</td>\n      <td>30</td>\n      <td>0</td>\n    </tr>\n    <tr>\n      <th>766</th>\n      <td>1</td>\n      <td>126</td>\n      <td>60</td>\n      <td>0</td>\n      <td>0</td>\n      <td>30.1</td>\n      <td>0.349</td>\n      <td>47</td>\n      <td>1</td>\n    </tr>\n    <tr>\n      <th>767</th>\n      <td>1</td>\n      <td>93</td>\n      <td>70</td>\n      <td>31</td>\n      <td>0</td>\n      <td>30.4</td>\n      <td>0.315</td>\n      <td>23</td>\n      <td>0</td>\n    </tr>\n  </tbody>\n</table>\n<p>768 rows × 9 columns</p>\n</div>"
     },
     "metadata": {},
     "execution_count": 68
    }
   ],
   "source": [
    "import pandas as pd\n",
    "import numpy as np\n",
    "\n",
    "# 임신\t포도당\t혈압\t피부 두께\t인슐린\tBMI\t당뇨계열 병\t나이\n",
    "# 0\t6\t148\t72\t35\t0\t33.6\t0.627\t50\n",
    "# 내껄 넣어주고 \n",
    "\n",
    "\n",
    "df = pd.read_csv('C:/Users/mingzzang/Desktop/PART17-20210621T020629Z-001/PART17/dataset/diabetes.csv', encoding='EUCKR')\n",
    "df"
   ]
  },
  {
   "cell_type": "code",
   "execution_count": 69,
   "metadata": {},
   "outputs": [
    {
     "output_type": "stream",
     "name": "stdout",
     "text": [
      "['이상민', '0', '117', '100', '60', '45', '26', '0.3221', '35']\n['이상민', 0, 117, 100, 60, 45, 26, 0.3221, 35, None]\n<class 'str'>\n<class 'int'>\n<class 'int'>\n<class 'int'>\n<class 'int'>\n<class 'int'>\n<class 'int'>\n<class 'float'>\n<class 'int'>\n<class 'NoneType'>\n"
     ]
    }
   ],
   "source": [
    "my_Info = list(input().split(', '))\n",
    "print(my_Info)\n",
    "my_Info2 = []\n",
    "for i in range(1, len( my_Info)):\n",
    "    while True:\n",
    "        try:\n",
    "            my_Info[i] = int(my_Info[i])\n",
    "            break\n",
    "        except ValueError:\n",
    "            my_Info[i] = float(my_Info[i])\n",
    "            break\n",
    "    # print(type(my_Info[i]))\n",
    "\n",
    "\n",
    "# 이상민, 0, 117, 100, 60, 45, 26, 0.3221, 35\n",
    "# 없는 결과값을 넣어야 해\n",
    "your_info_list = my_Info + [None]\n",
    "print(your_info_list)\n",
    "for i in range(len(your_info_list)):\n",
    "    print(type(your_info_list[i]))\n"
   ]
  },
  {
   "cell_type": "code",
   "execution_count": 76,
   "metadata": {},
   "outputs": [
    {
     "output_type": "stream",
     "name": "stdout",
     "text": [
      "['임신', '포도당', '혈압', '피부 두께', '인슐린', 'BMI', '당뇨계열 병', '나이', '결과']\n768\n<class 'numpy.float64'>\n5.0\n<class 'numpy.float64'>\n121.0\n<class 'numpy.float64'>\n72.0\n<class 'numpy.float64'>\n23.0\n<class 'numpy.float64'>\n112.0\n<class 'numpy.float64'>\n26.2\n<class 'numpy.float64'>\n0.245\n<class 'numpy.float64'>\n30.0\n<class 'numpy.float64'>\n0.0\n"
     ]
    }
   ],
   "source": [
    "# 내꺼 넣어야지\n",
    "# list_series = pd.Series(data_list, index=[\"라면\", \"김치\", \"떡볶이\", \"마라탕\", \"볶음밥\", \"짬뽕\"])\n",
    "# append로 하면 된다. 그냥 리스트에 추가하듯이 하면 되네\n",
    "# 내껄 넣고 싶으면 이렇게 해야함\n",
    "# df = df.append(my_Info, index)\n",
    "# new_row = pd.Series(data={'name':'Geo', 'physics':87, 'chemistry':92}, name='x')\n",
    "# #append row to the dataframe\n",
    "# df_marks = df_marks.append(new_row, ignore_index=False)\n",
    "df_names = df.columns.to_list()\n",
    "print(df_names)\n",
    "df_rows = len(df)\n",
    "print(df_rows)\n",
    "# print(len(my_Info[1:]))\n",
    "new_row = pd.Series(data=your_info_list[1:], index=df_names, name=df_rows)\n",
    "df_marks = df.append(new_row, ignore_index=False)\n",
    "for i in df_names:\n",
    "    print(type(df_marks.loc[765][i]))\n",
    "    print(df_marks.loc[765][i])\n",
    "\n",
    "\n",
    "# df_marks"
   ]
  },
  {
   "cell_type": "code",
   "execution_count": 78,
   "metadata": {},
   "outputs": [
    {
     "output_type": "stream",
     "name": "stdout",
     "text": [
      "임신        0\n포도당       0\n혈압        0\n피부 두께     0\n인슐린       0\nBMI       0\n당뇨계열 병    0\n나이        0\n결과        0\ndtype: int64\n"
     ]
    },
    {
     "output_type": "execute_result",
     "data": {
      "text/plain": [
       "      임신    포도당     혈압  피부 두께    인슐린   BMI  당뇨계열 병    나이   결과\n",
       "0    6.0  148.0   72.0   35.0    0.0  33.6  0.6270  50.0  1.0\n",
       "1    1.0   85.0   66.0   29.0    0.0  26.6  0.3510  31.0  0.0\n",
       "2    8.0  183.0   64.0    0.0    0.0  23.3  0.6720  32.0  1.0\n",
       "3    1.0   89.0   66.0   23.0   94.0  28.1  0.1670  21.0  0.0\n",
       "4    0.0  137.0   40.0   35.0  168.0  43.1  2.2880  33.0  1.0\n",
       "..   ...    ...    ...    ...    ...   ...     ...   ...  ...\n",
       "764  2.0  122.0   70.0   27.0    0.0  36.8  0.3400  27.0  0.0\n",
       "765  5.0  121.0   72.0   23.0  112.0  26.2  0.2450  30.0  0.0\n",
       "766  1.0  126.0   60.0    0.0    0.0  30.1  0.3490  47.0  1.0\n",
       "767  1.0   93.0   70.0   31.0    0.0  30.4  0.3150  23.0  0.0\n",
       "768  0.0  117.0  100.0   60.0   45.0  26.0  0.3221  35.0  0.0\n",
       "\n",
       "[769 rows x 9 columns]"
      ],
      "text/html": "<div>\n<style scoped>\n    .dataframe tbody tr th:only-of-type {\n        vertical-align: middle;\n    }\n\n    .dataframe tbody tr th {\n        vertical-align: top;\n    }\n\n    .dataframe thead th {\n        text-align: right;\n    }\n</style>\n<table border=\"1\" class=\"dataframe\">\n  <thead>\n    <tr style=\"text-align: right;\">\n      <th></th>\n      <th>임신</th>\n      <th>포도당</th>\n      <th>혈압</th>\n      <th>피부 두께</th>\n      <th>인슐린</th>\n      <th>BMI</th>\n      <th>당뇨계열 병</th>\n      <th>나이</th>\n      <th>결과</th>\n    </tr>\n  </thead>\n  <tbody>\n    <tr>\n      <th>0</th>\n      <td>6.0</td>\n      <td>148.0</td>\n      <td>72.0</td>\n      <td>35.0</td>\n      <td>0.0</td>\n      <td>33.6</td>\n      <td>0.6270</td>\n      <td>50.0</td>\n      <td>1.0</td>\n    </tr>\n    <tr>\n      <th>1</th>\n      <td>1.0</td>\n      <td>85.0</td>\n      <td>66.0</td>\n      <td>29.0</td>\n      <td>0.0</td>\n      <td>26.6</td>\n      <td>0.3510</td>\n      <td>31.0</td>\n      <td>0.0</td>\n    </tr>\n    <tr>\n      <th>2</th>\n      <td>8.0</td>\n      <td>183.0</td>\n      <td>64.0</td>\n      <td>0.0</td>\n      <td>0.0</td>\n      <td>23.3</td>\n      <td>0.6720</td>\n      <td>32.0</td>\n      <td>1.0</td>\n    </tr>\n    <tr>\n      <th>3</th>\n      <td>1.0</td>\n      <td>89.0</td>\n      <td>66.0</td>\n      <td>23.0</td>\n      <td>94.0</td>\n      <td>28.1</td>\n      <td>0.1670</td>\n      <td>21.0</td>\n      <td>0.0</td>\n    </tr>\n    <tr>\n      <th>4</th>\n      <td>0.0</td>\n      <td>137.0</td>\n      <td>40.0</td>\n      <td>35.0</td>\n      <td>168.0</td>\n      <td>43.1</td>\n      <td>2.2880</td>\n      <td>33.0</td>\n      <td>1.0</td>\n    </tr>\n    <tr>\n      <th>...</th>\n      <td>...</td>\n      <td>...</td>\n      <td>...</td>\n      <td>...</td>\n      <td>...</td>\n      <td>...</td>\n      <td>...</td>\n      <td>...</td>\n      <td>...</td>\n    </tr>\n    <tr>\n      <th>764</th>\n      <td>2.0</td>\n      <td>122.0</td>\n      <td>70.0</td>\n      <td>27.0</td>\n      <td>0.0</td>\n      <td>36.8</td>\n      <td>0.3400</td>\n      <td>27.0</td>\n      <td>0.0</td>\n    </tr>\n    <tr>\n      <th>765</th>\n      <td>5.0</td>\n      <td>121.0</td>\n      <td>72.0</td>\n      <td>23.0</td>\n      <td>112.0</td>\n      <td>26.2</td>\n      <td>0.2450</td>\n      <td>30.0</td>\n      <td>0.0</td>\n    </tr>\n    <tr>\n      <th>766</th>\n      <td>1.0</td>\n      <td>126.0</td>\n      <td>60.0</td>\n      <td>0.0</td>\n      <td>0.0</td>\n      <td>30.1</td>\n      <td>0.3490</td>\n      <td>47.0</td>\n      <td>1.0</td>\n    </tr>\n    <tr>\n      <th>767</th>\n      <td>1.0</td>\n      <td>93.0</td>\n      <td>70.0</td>\n      <td>31.0</td>\n      <td>0.0</td>\n      <td>30.4</td>\n      <td>0.3150</td>\n      <td>23.0</td>\n      <td>0.0</td>\n    </tr>\n    <tr>\n      <th>768</th>\n      <td>0.0</td>\n      <td>117.0</td>\n      <td>100.0</td>\n      <td>60.0</td>\n      <td>45.0</td>\n      <td>26.0</td>\n      <td>0.3221</td>\n      <td>35.0</td>\n      <td>0.0</td>\n    </tr>\n  </tbody>\n</table>\n<p>769 rows × 9 columns</p>\n</div>"
     },
     "metadata": {},
     "execution_count": 78
    }
   ],
   "source": [
    "# 내꺼 넣은 걸 결과 값 None을 없애고\n",
    "# # Nan을 없애주고\n",
    "# 일단 Nan값이 몇개인지 확인해보자\n",
    "print(df_marks.isnull().sum()) # 결과에 하나 있는거 보이네 이거를 중앙값으로 대체해주자\n",
    "df_marks['결과'].fillna( df_marks['결과'].median(axis=0), inplace=True )\n",
    "df_marks\n"
   ]
  },
  {
   "cell_type": "code",
   "execution_count": 79,
   "metadata": {},
   "outputs": [
    {
     "output_type": "execute_result",
     "data": {
      "text/plain": [
       "      임신    포도당     혈압  피부 두께    인슐린   BMI  당뇨계열 병    나이   결과\n",
       "0    6.0  148.0   72.0   35.0    0.0  33.6  0.6270  50.0  1.0\n",
       "1    1.0   85.0   66.0   29.0    0.0  26.6  0.3510  31.0  0.0\n",
       "2    8.0  183.0   64.0    0.0    0.0  23.3  0.6720  32.0  1.0\n",
       "3    1.0   89.0   66.0   23.0   94.0  28.1  0.1670  21.0  0.0\n",
       "4    0.0  137.0   40.0   35.0  168.0  43.1  2.2880  33.0  1.0\n",
       "..   ...    ...    ...    ...    ...   ...     ...   ...  ...\n",
       "764  2.0  122.0   70.0   27.0    0.0  36.8  0.3400  27.0  0.0\n",
       "765  5.0  121.0   72.0   23.0  112.0  26.2  0.2450  30.0  0.0\n",
       "766  1.0  126.0   60.0    0.0    0.0  30.1  0.3490  47.0  1.0\n",
       "767  1.0   93.0   70.0   31.0    0.0  30.4  0.3150  23.0  0.0\n",
       "768  0.0  117.0  100.0   60.0   45.0  26.0  0.3221  35.0  0.0\n",
       "\n",
       "[769 rows x 9 columns]"
      ],
      "text/html": "<div>\n<style scoped>\n    .dataframe tbody tr th:only-of-type {\n        vertical-align: middle;\n    }\n\n    .dataframe tbody tr th {\n        vertical-align: top;\n    }\n\n    .dataframe thead th {\n        text-align: right;\n    }\n</style>\n<table border=\"1\" class=\"dataframe\">\n  <thead>\n    <tr style=\"text-align: right;\">\n      <th></th>\n      <th>임신</th>\n      <th>포도당</th>\n      <th>혈압</th>\n      <th>피부 두께</th>\n      <th>인슐린</th>\n      <th>BMI</th>\n      <th>당뇨계열 병</th>\n      <th>나이</th>\n      <th>결과</th>\n    </tr>\n  </thead>\n  <tbody>\n    <tr>\n      <th>0</th>\n      <td>6.0</td>\n      <td>148.0</td>\n      <td>72.0</td>\n      <td>35.0</td>\n      <td>0.0</td>\n      <td>33.6</td>\n      <td>0.6270</td>\n      <td>50.0</td>\n      <td>1.0</td>\n    </tr>\n    <tr>\n      <th>1</th>\n      <td>1.0</td>\n      <td>85.0</td>\n      <td>66.0</td>\n      <td>29.0</td>\n      <td>0.0</td>\n      <td>26.6</td>\n      <td>0.3510</td>\n      <td>31.0</td>\n      <td>0.0</td>\n    </tr>\n    <tr>\n      <th>2</th>\n      <td>8.0</td>\n      <td>183.0</td>\n      <td>64.0</td>\n      <td>0.0</td>\n      <td>0.0</td>\n      <td>23.3</td>\n      <td>0.6720</td>\n      <td>32.0</td>\n      <td>1.0</td>\n    </tr>\n    <tr>\n      <th>3</th>\n      <td>1.0</td>\n      <td>89.0</td>\n      <td>66.0</td>\n      <td>23.0</td>\n      <td>94.0</td>\n      <td>28.1</td>\n      <td>0.1670</td>\n      <td>21.0</td>\n      <td>0.0</td>\n    </tr>\n    <tr>\n      <th>4</th>\n      <td>0.0</td>\n      <td>137.0</td>\n      <td>40.0</td>\n      <td>35.0</td>\n      <td>168.0</td>\n      <td>43.1</td>\n      <td>2.2880</td>\n      <td>33.0</td>\n      <td>1.0</td>\n    </tr>\n    <tr>\n      <th>...</th>\n      <td>...</td>\n      <td>...</td>\n      <td>...</td>\n      <td>...</td>\n      <td>...</td>\n      <td>...</td>\n      <td>...</td>\n      <td>...</td>\n      <td>...</td>\n    </tr>\n    <tr>\n      <th>764</th>\n      <td>2.0</td>\n      <td>122.0</td>\n      <td>70.0</td>\n      <td>27.0</td>\n      <td>0.0</td>\n      <td>36.8</td>\n      <td>0.3400</td>\n      <td>27.0</td>\n      <td>0.0</td>\n    </tr>\n    <tr>\n      <th>765</th>\n      <td>5.0</td>\n      <td>121.0</td>\n      <td>72.0</td>\n      <td>23.0</td>\n      <td>112.0</td>\n      <td>26.2</td>\n      <td>0.2450</td>\n      <td>30.0</td>\n      <td>0.0</td>\n    </tr>\n    <tr>\n      <th>766</th>\n      <td>1.0</td>\n      <td>126.0</td>\n      <td>60.0</td>\n      <td>0.0</td>\n      <td>0.0</td>\n      <td>30.1</td>\n      <td>0.3490</td>\n      <td>47.0</td>\n      <td>1.0</td>\n    </tr>\n    <tr>\n      <th>767</th>\n      <td>1.0</td>\n      <td>93.0</td>\n      <td>70.0</td>\n      <td>31.0</td>\n      <td>0.0</td>\n      <td>30.4</td>\n      <td>0.3150</td>\n      <td>23.0</td>\n      <td>0.0</td>\n    </tr>\n    <tr>\n      <th>768</th>\n      <td>0.0</td>\n      <td>117.0</td>\n      <td>100.0</td>\n      <td>60.0</td>\n      <td>45.0</td>\n      <td>26.0</td>\n      <td>0.3221</td>\n      <td>35.0</td>\n      <td>0.0</td>\n    </tr>\n  </tbody>\n</table>\n<p>769 rows × 9 columns</p>\n</div>"
     },
     "metadata": {},
     "execution_count": 79
    }
   ],
   "source": [
    "# 중복된 것을 없애주는 작업을 하자\n",
    "drop_duplicate_df = df_marks.drop_duplicates()\n",
    "drop_duplicate_df"
   ]
  },
  {
   "cell_type": "code",
   "execution_count": 80,
   "metadata": {},
   "outputs": [
    {
     "output_type": "stream",
     "name": "stdout",
     "text": [
      "임신          3.840052\n포도당       120.889467\n혈압         69.145644\n피부 두께      20.587776\n인슐린        79.754226\nBMI        31.984785\n당뇨계열 병      0.471682\n나이         33.243173\n결과          0.348505\ndtype: float64\n-----------------------------------------\n임신          3.000\n포도당       117.000\n혈압         72.000\n피부 두께      23.000\n인슐린        32.000\nBMI        32.000\n당뇨계열 병      0.371\n나이         29.000\n결과          0.000\ndtype: float64\n-----------------------------------------\n임신         17.00\n포도당       199.00\n혈압        122.00\n피부 두께      99.00\n인슐린       846.00\nBMI        67.10\n당뇨계열 병      2.42\n나이         81.00\n결과          1.00\ndtype: float64\n-----------------------------------------\n임신         0.000\n포도당        0.000\n혈압         0.000\n피부 두께      0.000\n인슐린        0.000\nBMI        0.000\n당뇨계열 병     0.078\n나이        21.000\n결과         0.000\ndtype: float64\n-----------------------------------------\n임신          3.370237\n포도당        31.952105\n혈압         19.375258\n피부 두께      16.005221\n인슐린       115.175786\nBMI         7.881989\n당뇨계열 병      0.331157\n나이         11.752744\n결과          0.476807\ndtype: float64\n-----------------------------------------\n              임신       포도당        혈압     피부 두께       인슐린       BMI    당뇨계열 병  \\\n임신      1.000000  0.129529  0.138563 -0.084937 -0.073020  0.018789 -0.032819   \n포도당     0.129529  1.000000  0.152083  0.056709  0.331382  0.221106  0.137389   \n혈압      0.138563  0.152083  1.000000  0.211320  0.088154  0.279657  0.040253   \n피부 두께  -0.084937  0.056709  0.211320  1.000000  0.434058  0.388434  0.181725   \n인슐린    -0.073020  0.331382  0.088154  0.434058  1.000000  0.198072  0.185213   \nBMI     0.018789  0.221106  0.279657  0.388434  0.198072  1.000000  0.141023   \n당뇨계열 병 -0.032819  0.137389  0.040253  0.181725  0.185213  0.141023  1.000000   \n나이      0.543650  0.263484  0.239439 -0.113037 -0.042219  0.036080  0.033468   \n결과      0.222719  0.466530  0.063421  0.072084  0.130782  0.293206  0.174191   \n\n              나이        결과  \n임신      0.543650  0.222719  \n포도당     0.263484  0.466530  \n혈압      0.239439  0.063421  \n피부 두께  -0.113037  0.072084  \n인슐린    -0.042219  0.130782  \nBMI     0.036080  0.293206  \n당뇨계열 병  0.033468  0.174191  \n나이      1.000000  0.238127  \n결과      0.238127  1.000000  \n"
     ]
    }
   ],
   "source": [
    "# 이제 결과값을 내뱉어보자\n",
    "print( drop_duplicate_df.mean() )\n",
    "print( \"-----------------------------------------\" )\n",
    "print( drop_duplicate_df.median() ) #중앙값\n",
    "print( \"-----------------------------------------\" )\n",
    "print( drop_duplicate_df.max() )\n",
    "print( \"-----------------------------------------\" )\n",
    "print( drop_duplicate_df.min() )\n",
    "print( \"-----------------------------------------\" )\n",
    "print( drop_duplicate_df.std() ) #표준편차\n",
    "print( \"-----------------------------------------\" )\n",
    "print( drop_duplicate_df.corr() ) # 48:10초 쯤에 있을 수 있어\n"
   ]
  },
  {
   "cell_type": "code",
   "execution_count": 111,
   "metadata": {},
   "outputs": [
    {
     "output_type": "stream",
     "name": "stdout",
     "text": [
      "99.0\n['이상민님의 임신항목의 경우, 전체 조사 인원 25% 이하에 속하고 있습니다.', '이상민님의 포도당항목의 경우, 전체 조사 인원 25% 초과 50% 이하에 속하고 있습니다.', '이상민님의 혈압항목의 경우, 전체 조사 인원 75% 초과 100% 이하에 속하고 있습니다.', '이상민님의 피부 두께항목의 경우, 전체 조사 인원 75% 초과 100% 이하에 속하고 있습니다.', '이상민님의 인슐린항목의 경우, 전체 조사 인원 50% 초과 75% 이하에 속하고 있습니다.', '이상민님의 BMI항목의 경우, 전체 조사 인원 25% 이하에 속하고 있습니다.', '이상민님의 당뇨계열 병항목의 경우, 전체 조사 인원 25% 초과 50% 이하에 속하고 있습니다.', '이상민님의 나이항목의 경우, 전체 조사 인원 50% 초과 75% 이하에 속하고 있습니다.']\n"
     ]
    }
   ],
   "source": [
    "# 사분위 값을 가져와야 하잖아\n",
    "# quantile(0.25) => 25% 로 생각하면서 작고 크고로 4분위값을 나타낼 수 있을거 같아\n",
    "df_rows = len(df)\n",
    "# print(df_rows)\n",
    "df_cols = len(df.columns)\n",
    "# print(df_cols)\n",
    "df_names = df.columns.to_list()\n",
    "df = drop_duplicate_df\n",
    "# print(type(df.loc[768]['당뇨계열 병']))\n",
    "# medical_certificate = []\n",
    "# print(type(int(my_Info[1])))\n",
    "print(df[df_names[1]].quantile(0.25))\n",
    "df\n",
    "# index, 결과 colum 제외\n",
    "medical_certificate = []\n",
    "\n",
    "for i in range( df_cols-1 ) :\n",
    "    if your_info_list[i+1] <= df[df_names[i]].quantile(0.25) : \n",
    "      medical_certificate.append( \"{}님의 {}항목의 경우, 전체 조사 인원 25% 이하에 속하고 있습니다.\".format(your_info_list[0], df_names[i]) )\n",
    "    elif your_info_list[i+1] > df[df_names[i]].quantile(0.25) and your_info_list[i+1] <= df[df_names[i]].quantile(0.50) : \n",
    "      medical_certificate.append( \"{}님의 {}항목의 경우, 전체 조사 인원 25% 초과 50% 이하에 속하고 있습니다.\".format(your_info_list[0], df_names[i]) )\n",
    "    elif your_info_list[i+1] > df[df_names[i]].quantile(0.50) and your_info_list[i+1] <= df[df_names[i]].quantile(0.75) : \n",
    "      medical_certificate.append( \"{}님의 {}항목의 경우, 전체 조사 인원 50% 초과 75% 이하에 속하고 있습니다.\".format(your_info_list[0], df_names[i]) )\n",
    "    elif your_info_list[i+1] > df[df_names[i]].quantile(0.75) and your_info_list[i+1] <= df[df_names[i]].quantile(1) : \n",
    "      medical_certificate.append( \"{}님의 {}항목의 경우, 전체 조사 인원 75% 초과 100% 이하에 속하고 있습니다.\".format(your_info_list[0], df_names[i]) )\n",
    "    else :\n",
    "      medical_certificate.append( \"{}님의 {}항목의 경우, 4분위 수에서 확인되지 않을 정도로 낮거나 높습니다.\".format(your_info_list[0], df_names[i]) )\n",
    "print(medical_certificate)"
   ]
  },
  {
   "cell_type": "code",
   "execution_count": null,
   "metadata": {},
   "outputs": [],
   "source": []
  }
 ]
}