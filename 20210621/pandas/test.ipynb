{
 "metadata": {
  "language_info": {
   "codemirror_mode": {
    "name": "ipython",
    "version": 3
   },
   "file_extension": ".py",
   "mimetype": "text/x-python",
   "name": "python",
   "nbconvert_exporter": "python",
   "pygments_lexer": "ipython3",
   "version": "3.8.8"
  },
  "orig_nbformat": 4,
  "kernelspec": {
   "name": "python3",
   "display_name": "Python 3.8.8 64-bit ('base': conda)"
  },
  "interpreter": {
   "hash": "473a733fa75d3caf7e6d3c6c4b30480b56102ef8a0ba4c2db92fdbb905170b2b"
  }
 },
 "nbformat": 4,
 "nbformat_minor": 2,
 "cells": [
  {
   "cell_type": "code",
   "execution_count": 5,
   "metadata": {},
   "outputs": [],
   "source": [
    "import pandas as pd\n",
    "import numpy as np\n",
    "\n",
    "df = pd.read_csv('C:/Users/mingzzang/Desktop/PART17-20210621T020629Z-001/PART17/dataset/diabetes.csv', encoding='EUCKR')"
   ]
  },
  {
   "cell_type": "code",
   "execution_count": 3,
   "metadata": {},
   "outputs": [],
   "source": [
    "sort_df = df.sort_values('나이', ascending=False)"
   ]
  },
  {
   "cell_type": "code",
   "execution_count": 7,
   "metadata": {},
   "outputs": [
    {
     "output_type": "stream",
     "name": "stdout",
     "text": [
      "     임신  포도당  혈압  피부 두께  인슐린   BMI  당뇨계열 병  나이  결과\n453   2  119   0      0    0  19.6   0.832  72   0\n123   5  132  80      0    0  26.8   0.186  69   0\n684   5  136  82      0    0   0.0   0.640  69   0\n674   8   91  82      0    0  35.6   0.587  68   0\n363   4  146  78      0    0  38.5   0.520  67   1\n..   ..  ...  ..    ...  ...   ...     ...  ..  ..\n240   1   91  64     24    0  29.2   0.192  21   0\n136   0  100  70     26   50  30.8   0.597  21   0\n382   1  109  60      8  182  25.4   0.947  21   0\n392   1  131  64     14  415  23.7   0.389  21   0\n271   2  108  62     32   56  25.2   0.128  21   0\n\n[766 rows x 9 columns]\n"
     ]
    }
   ],
   "source": [
    "drop_sort_df = sort_df.drop([459, 666], axis=0)\n",
    "print(drop_sort_df)"
   ]
  },
  {
   "cell_type": "code",
   "execution_count": null,
   "metadata": {},
   "outputs": [],
   "source": []
  }
 ]
}